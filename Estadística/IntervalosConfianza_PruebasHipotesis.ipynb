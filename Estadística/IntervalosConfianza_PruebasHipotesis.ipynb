{
 "cells": [
  {
   "cell_type": "markdown",
   "metadata": {},
   "source": [
    "# Intervalos de confianza"
   ]
  },
  {
   "cell_type": "code",
   "execution_count": 3,
   "metadata": {},
   "outputs": [],
   "source": [
    "import numpy as np\n",
    "import scipy.stats as stats\n",
    "from scipy.stats import t, norm"
   ]
  },
  {
   "cell_type": "markdown",
   "metadata": {},
   "source": [
    "## Distribución T student \n",
    "\n",
    "Para n<30"
   ]
  },
  {
   "cell_type": "markdown",
   "metadata": {},
   "source": [
    "### Calculandolo manual"
   ]
  },
  {
   "cell_type": "code",
   "execution_count": 2,
   "metadata": {},
   "outputs": [
    {
     "data": {
      "text/plain": [
       "-2.1715446760080677"
      ]
     },
     "execution_count": 2,
     "metadata": {},
     "output_type": "execute_result"
    }
   ],
   "source": [
    "n=25\n",
    "media=158950\n",
    "S=23800\n",
    "alfa= 1-0.96 # probabilidad 96%\n",
    "t_est=t.ppf(alfa/2,n-1)\n",
    "t_est"
   ]
  },
  {
   "cell_type": "code",
   "execution_count": 3,
   "metadata": {},
   "outputs": [
    {
     "data": {
      "text/plain": [
       "169286.5526577984"
      ]
     },
     "execution_count": 3,
     "metadata": {},
     "output_type": "execute_result"
    }
   ],
   "source": [
    "ub=media-t_est*S/np.sqrt(n)\n",
    "ub"
   ]
  },
  {
   "cell_type": "code",
   "execution_count": 4,
   "metadata": {},
   "outputs": [
    {
     "data": {
      "text/plain": [
       "148613.4473422016"
      ]
     },
     "execution_count": 4,
     "metadata": {},
     "output_type": "execute_result"
    }
   ],
   "source": [
    "lb=media+t_est*S/np.sqrt(n)\n",
    "lb"
   ]
  },
  {
   "cell_type": "markdown",
   "metadata": {},
   "source": [
    "### Con función "
   ]
  },
  {
   "cell_type": "code",
   "execution_count": 5,
   "metadata": {},
   "outputs": [
    {
     "name": "stdout",
     "output_type": "stream",
     "text": [
      "(148637.0476200049, 169262.9523799951)\n"
     ]
    }
   ],
   "source": [
    "\n",
    "confidence_interval = stats.t.interval(0.96,df=25, loc=media, scale=S/np.sqrt(n))\n",
    "print(confidence_interval)\n"
   ]
  },
  {
   "cell_type": "markdown",
   "metadata": {},
   "source": [
    "### Con un 96% de probabilidad, el valor poblacional estaría entre 148613 y 169286, por lo que no podría ser 180000"
   ]
  },
  {
   "cell_type": "markdown",
   "metadata": {},
   "source": [
    "## Intervalos de Confianza para diferencias de Medias"
   ]
  },
  {
   "cell_type": "code",
   "execution_count": 6,
   "metadata": {},
   "outputs": [],
   "source": [
    "# Pilas E\n",
    "media_e=116.6\n",
    "s_e=10\n",
    "n_e=21"
   ]
  },
  {
   "cell_type": "code",
   "execution_count": 7,
   "metadata": {},
   "outputs": [],
   "source": [
    "# Pilas D\n",
    "media_d=115.8\n",
    "s_d=15\n",
    "n_d=n_e"
   ]
  },
  {
   "cell_type": "code",
   "execution_count": 8,
   "metadata": {},
   "outputs": [],
   "source": [
    "#Probabilicad del 97%\n",
    "alfa=1-0.97"
   ]
  },
  {
   "cell_type": "code",
   "execution_count": 9,
   "metadata": {},
   "outputs": [
    {
     "name": "stdout",
     "output_type": "stream",
     "text": [
      "Intervalo de confianza para la diferencia de medias: (-8.39072750721638, 9.990727507216373)\n"
     ]
    }
   ],
   "source": [
    "import scipy.stats as stats\n",
    "\n",
    "# Valores conocidos para la primera muestra\n",
    "media1 = media_e  # Media de la primera población\n",
    "desviacion_estandar1 = s_e  # Desviación estándar de la primera población\n",
    "n1 = n_e  # Tamaño de la primera muestra\n",
    "\n",
    "# Valores conocidos para la segunda muestra\n",
    "media2 = media_d  # Media de la segunda población\n",
    "desviacion_estandar2 = s_d  # Desviación estándar de la segunda población\n",
    "n2 = n_d  # Tamaño de la segunda muestra\n",
    "\n",
    "nivel_confianza = 0.97  # Nivel de confianza del 97%\n",
    "\n",
    "# Calcular el error estándar de la diferencia de medias\n",
    "sem_diff = ((desviacion_estandar1 ** 2 / n1) + (desviacion_estandar2 ** 2 / n2)) ** 0.5\n",
    "\n",
    "# Calcular el intervalo de confianza para la diferencia de medias\n",
    "intervalo = stats.t.interval(nivel_confianza, loc=media1 - media2, scale=sem_diff, df=min(n1 - 1, n2 - 1))\n",
    "\n",
    "print(\"Intervalo de confianza para la diferencia de medias:\", intervalo)\n"
   ]
  },
  {
   "cell_type": "markdown",
   "metadata": {},
   "source": [
    "## Intervalos de confianza para la proporción (distribuciones Binomiales)"
   ]
  },
  {
   "cell_type": "code",
   "execution_count": 10,
   "metadata": {},
   "outputs": [],
   "source": [
    "n=55\n",
    "X=11 # Casos de fallo a 250°F\n",
    "alfa=1-0.9 #Probabilidad del 90%\n",
    "p=X/n\n",
    "\n",
    "# ¿se puede afirmar que con una confianza del 90% no hay casos de fallo a 250°F?"
   ]
  },
  {
   "cell_type": "code",
   "execution_count": 11,
   "metadata": {},
   "outputs": [
    {
     "data": {
      "text/plain": [
       "0.11128319287497217"
      ]
     },
     "execution_count": 11,
     "metadata": {},
     "output_type": "execute_result"
    }
   ],
   "source": [
    "p-abs(norm.ppf(alfa/2))*np.sqrt(p*(1-p)/n)"
   ]
  },
  {
   "cell_type": "code",
   "execution_count": 12,
   "metadata": {},
   "outputs": [
    {
     "data": {
      "text/plain": [
       "0.28871680712502784"
      ]
     },
     "execution_count": 12,
     "metadata": {},
     "output_type": "execute_result"
    }
   ],
   "source": [
    "p+abs(norm.ppf(alfa/2))*np.sqrt(p*(1-p)/n)"
   ]
  },
  {
   "cell_type": "markdown",
   "metadata": {},
   "source": [
    "#### El IC es [0.11 , 0.288]\n",
    "\n",
    "Dado que el intervalo tiene 28.8% no es cierta la afirmaicón de que el 80% de las mascaras soporta, es decir, el valor máximo del intervalo debería ser 0.2"
   ]
  },
  {
   "cell_type": "markdown",
   "metadata": {},
   "source": [
    "# Pruebas de Hipotesis\n",
    "\n",
    "**H0:** u<=180.000\n",
    "\n",
    "**H1:** u>180.000"
   ]
  },
  {
   "cell_type": "code",
   "execution_count": 13,
   "metadata": {},
   "outputs": [],
   "source": [
    "n=25\n",
    "media=158950\n",
    "S=23800"
   ]
  },
  {
   "cell_type": "code",
   "execution_count": 14,
   "metadata": {},
   "outputs": [
    {
     "data": {
      "text/plain": [
       "-4.4222689075630255"
      ]
     },
     "execution_count": 14,
     "metadata": {},
     "output_type": "execute_result"
    }
   ],
   "source": [
    "t_comp=(158950-180000)/(23800/np.sqrt(25))\n",
    "t_comp"
   ]
  },
  {
   "cell_type": "code",
   "execution_count": 15,
   "metadata": {},
   "outputs": [
    {
     "data": {
      "text/plain": [
       "-2.8924948486622473"
      ]
     },
     "execution_count": 15,
     "metadata": {},
     "output_type": "execute_result"
    }
   ],
   "source": [
    "t_new=t.ppf(0.004,24)\n",
    "t_new"
   ]
  },
  {
   "cell_type": "markdown",
   "metadata": {},
   "source": [
    "## Prueba de hipotesis - Diferencia de medias\n",
    "\n",
    "**H0:** u2>=u1\n",
    "\n",
    "**H1:** u2<u1"
   ]
  },
  {
   "cell_type": "code",
   "execution_count": 5,
   "metadata": {},
   "outputs": [],
   "source": [
    "n1=60\n",
    "x1=80.7\n",
    "s1=19.4\n",
    "\n",
    "n2=50\n",
    "x2=88.1\n",
    "s2=18.8"
   ]
  },
  {
   "cell_type": "code",
   "execution_count": 6,
   "metadata": {},
   "outputs": [
    {
     "data": {
      "text/plain": [
       "2.025955640502291"
      ]
     },
     "execution_count": 6,
     "metadata": {},
     "output_type": "execute_result"
    }
   ],
   "source": [
    "(x2-x1)/np.sqrt((s2**2)/n2+(s1**2)/n1)"
   ]
  },
  {
   "cell_type": "code",
   "execution_count": 12,
   "metadata": {},
   "outputs": [
    {
     "data": {
      "text/plain": [
       "-2.575829303548901"
      ]
     },
     "execution_count": 12,
     "metadata": {},
     "output_type": "execute_result"
    }
   ],
   "source": [
    "norm.ppf(0.01/2)"
   ]
  }
 ],
 "metadata": {
  "kernelspec": {
   "display_name": "Taller2-tVRzjBFm",
   "language": "python",
   "name": "python3"
  },
  "language_info": {
   "codemirror_mode": {
    "name": "ipython",
    "version": 3
   },
   "file_extension": ".py",
   "mimetype": "text/x-python",
   "name": "python",
   "nbconvert_exporter": "python",
   "pygments_lexer": "ipython3",
   "version": "3.11.5"
  }
 },
 "nbformat": 4,
 "nbformat_minor": 2
}
