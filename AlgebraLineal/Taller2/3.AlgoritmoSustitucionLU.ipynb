{
 "cells": [
  {
   "cell_type": "markdown",
   "metadata": {},
   "source": [
    "## Metodo con Matrices triangulares A = L.U"
   ]
  },
  {
   "cell_type": "markdown",
   "metadata": {},
   "source": [
    "El objetivo de este notebook es resolver un problema de sistema de ecuaciones lineales utilizando el metodo de factorización A = LU, donde L es la matriz tringular inferior y U es la matriz triangular superior\n"
   ]
  },
  {
   "cell_type": "code",
   "execution_count": 1,
   "metadata": {},
   "outputs": [],
   "source": [
    "import numpy as np\n",
    "import random"
   ]
  },
  {
   "cell_type": "code",
   "execution_count": 2,
   "metadata": {},
   "outputs": [
    {
     "name": "stdout",
     "output_type": "stream",
     "text": [
      "Matriz:\n",
      "[[5 3 9 7 3 5]\n",
      " [8 5 7 6 3 3]\n",
      " [3 8 5 6 4 8]\n",
      " [1 4 9 1 4 4]\n",
      " [2 1 5 1 9 2]\n",
      " [8 9 5 3 3 7]]\n",
      "Vector:\n",
      "[1 2 4 4 3 4]\n"
     ]
    }
   ],
   "source": [
    "n = random.randint(2, 7)\n",
    "A = np.random.randint(1, 10, size=(n, n))\n",
    "\n",
    "# Generar un vector aleatorio de longitud n\n",
    "B = np.random.randint(1, 10, size=n)\n",
    "\n",
    "print(\"Matriz:\")\n",
    "print(A)\n",
    "print(\"Vector:\")\n",
    "print(B)"
   ]
  },
  {
   "cell_type": "code",
   "execution_count": 3,
   "metadata": {},
   "outputs": [],
   "source": [
    "# #A = np.array([[ 3. , -0.1, -0.2],\n",
    "#               [ 0.1,  7. , -0.3],\n",
    "#               [ 0.3, -0.2, 10. ]], dtype=float)\n",
    "\n",
    "# #B = np.array([7.85,-19.3,71.4], dtype=float)"
   ]
  },
  {
   "cell_type": "code",
   "execution_count": 4,
   "metadata": {},
   "outputs": [],
   "source": [
    "B  = np.transpose([B]) # Se transpone el vector para poder hacer la concatenación con la matriz\n",
    "AB = np.concatenate((A,B),axis=1) # Se concatena la matriz con el vector\n",
    "AB = np.copy(AB)  # Se genera una copia de la matriz aumentada"
   ]
  },
  {
   "cell_type": "code",
   "execution_count": 5,
   "metadata": {},
   "outputs": [],
   "source": [
    "# Pivoteo parcial por filas\n",
    "tamano = np.shape(AB)\n",
    "n = tamano[0]\n",
    "m = tamano[1]"
   ]
  },
  {
   "cell_type": "markdown",
   "metadata": {},
   "source": [
    "Luego debemos de intercambiar las filas en la matriz extendida AB para asegurarse de que el elemento en la posición, i,i (el pivote) sea el mayor en valor absoluto en su columna. Esto ayuda a evitar divisiones por cero y mejora la estabilidad numérica del algoritmo de eliminación hacia adelante."
   ]
  },
  {
   "cell_type": "code",
   "execution_count": 6,
   "metadata": {},
   "outputs": [],
   "source": [
    "# Para cada fila en AB\n",
    "for i in range(0,n-1,1): # Para cada fila en AB, se comienza desde la primer fila hasta la penultima fila\n",
    "\n",
    "    # columna desde diagonal i en adelante\n",
    "    columna = abs(AB[i:,i]) # Se optine la columna correspondiente al pivote en valor absoluto\n",
    "    dondemax = np.argmax(columna)# Se encuentra la posición del elemento máximo en la columna\n",
    "\n",
    "    # Si la posición del elemento máximo no es 0(es decir, el elemto máximo no esta en la diagonal), se intercambian las filas i y dondemax + i\n",
    "    # dondemax no está en diagonal\n",
    "    if (dondemax !=0):\n",
    "        # intercambia filas\n",
    "        temporal = np.copy(AB[i,:])\n",
    "        AB[i,:] = AB[dondemax+i,:]\n",
    "        AB[dondemax+i,:] = temporal\n",
    "\n",
    "AB1 = np.copy(AB)\n",
    "A1 = np.copy(AB[:,:m-1])\n",
    "B1 = np.copy(AB[:,m-1])"
   ]
  },
  {
   "cell_type": "code",
   "execution_count": 7,
   "metadata": {},
   "outputs": [
    {
     "data": {
      "text/plain": [
       "array([[8, 5, 7, 6, 3, 3, 2],\n",
       "       [8, 9, 5, 3, 3, 7, 4],\n",
       "       [1, 4, 9, 1, 4, 4, 4],\n",
       "       [5, 3, 9, 7, 3, 5, 1],\n",
       "       [2, 1, 5, 1, 9, 2, 3],\n",
       "       [3, 8, 5, 6, 4, 8, 4]])"
      ]
     },
     "execution_count": 7,
     "metadata": {},
     "output_type": "execute_result"
    }
   ],
   "source": [
    "AB1  # Matriz reemplazada\n"
   ]
  },
  {
   "cell_type": "code",
   "execution_count": 8,
   "metadata": {},
   "outputs": [
    {
     "data": {
      "text/plain": [
       "array([[8, 5, 7, 6, 3, 3],\n",
       "       [8, 9, 5, 3, 3, 7],\n",
       "       [1, 4, 9, 1, 4, 4],\n",
       "       [5, 3, 9, 7, 3, 5],\n",
       "       [2, 1, 5, 1, 9, 2],\n",
       "       [3, 8, 5, 6, 4, 8]])"
      ]
     },
     "execution_count": 8,
     "metadata": {},
     "output_type": "execute_result"
    }
   ],
   "source": [
    "A1 # Matriz reemplazada ni el vector inicial "
   ]
  },
  {
   "cell_type": "code",
   "execution_count": 9,
   "metadata": {},
   "outputs": [
    {
     "data": {
      "text/plain": [
       "array([2, 4, 4, 1, 3, 4])"
      ]
     },
     "execution_count": 9,
     "metadata": {},
     "output_type": "execute_result"
    }
   ],
   "source": [
    "B1 ## Vector resultado inicial "
   ]
  },
  {
   "cell_type": "markdown",
   "metadata": {},
   "source": [
    "Realizamos la eliminación hacia adelante en la matriz extendida AB para convertirla en una matriz triangular superior. Al mismo tiempo, se construye una matriz L que contiene los factores de multiplicación utilizados en cada paso de la eliminación hacia adelante. La matriz L es una matriz triangular inferior con unos en la diagonal principal."
   ]
  },
  {
   "cell_type": "code",
   "execution_count": 10,
   "metadata": {},
   "outputs": [],
   "source": [
    "# eliminacion hacia adelante\n",
    "# se inicializa L\n",
    "L = np.identity(n,dtype=float)\n",
    "for i in range(0,n-1,1):\n",
    "    pivote = AB[i,i]\n",
    "    adelante = i+1\n",
    "    for k in range(adelante,n,1):\n",
    "        factor = AB[k,i]/pivote\n",
    "        AB[k,:] = AB[k,:] - AB[i,:]*factor\n",
    "        L[k,i] = factor\n",
    "\n",
    "U = np.copy(AB[:,:m-1])"
   ]
  },
  {
   "cell_type": "code",
   "execution_count": 11,
   "metadata": {},
   "outputs": [
    {
     "data": {
      "text/plain": [
       "array([[ 8,  5,  7,  6,  3,  3],\n",
       "       [ 0,  4, -2, -3,  0,  4],\n",
       "       [ 0,  0,  9,  2,  3,  0],\n",
       "       [ 0,  0,  0,  2,  0,  3],\n",
       "       [ 0,  0,  0,  0,  7,  1],\n",
       "       [ 0,  0,  0,  0,  0, -7]])"
      ]
     },
     "execution_count": 11,
     "metadata": {},
     "output_type": "execute_result"
    }
   ],
   "source": [
    "U # Triangular superior"
   ]
  },
  {
   "cell_type": "code",
   "execution_count": 12,
   "metadata": {},
   "outputs": [
    {
     "data": {
      "text/plain": [
       "array([[1.        , 0.        , 0.        , 0.        , 0.        ,\n",
       "        0.        ],\n",
       "       [1.        , 1.        , 0.        , 0.        , 0.        ,\n",
       "        0.        ],\n",
       "       [0.125     , 0.75      , 1.        , 0.        , 0.        ,\n",
       "        0.        ],\n",
       "       [0.625     , 0.        , 0.44444444, 1.        , 0.        ,\n",
       "        0.        ],\n",
       "       [0.25      , 0.        , 0.33333333, 0.        , 1.        ,\n",
       "        0.        ],\n",
       "       [0.375     , 1.5       , 0.55555556, 2.5       , 0.        ,\n",
       "        1.        ]])"
      ]
     },
     "execution_count": 12,
     "metadata": {},
     "output_type": "execute_result"
    }
   ],
   "source": [
    "L # Triangular inferior"
   ]
  },
  {
   "cell_type": "code",
   "execution_count": 13,
   "metadata": {},
   "outputs": [],
   "source": [
    "# Resolver LY = B   donde Y = B1\n",
    "B2  = np.transpose([B1])\n",
    "AB =np.concatenate((L,B2),axis=1)"
   ]
  },
  {
   "cell_type": "code",
   "execution_count": 14,
   "metadata": {},
   "outputs": [
    {
     "data": {
      "text/plain": [
       "array([[2],\n",
       "       [4],\n",
       "       [4],\n",
       "       [1],\n",
       "       [3],\n",
       "       [4]])"
      ]
     },
     "execution_count": 14,
     "metadata": {},
     "output_type": "execute_result"
    }
   ],
   "source": [
    "B2"
   ]
  },
  {
   "cell_type": "code",
   "execution_count": 15,
   "metadata": {},
   "outputs": [
    {
     "data": {
      "text/plain": [
       "array([[1.        , 0.        , 0.        , 0.        , 0.        ,\n",
       "        0.        , 2.        ],\n",
       "       [1.        , 1.        , 0.        , 0.        , 0.        ,\n",
       "        0.        , 4.        ],\n",
       "       [0.125     , 0.75      , 1.        , 0.        , 0.        ,\n",
       "        0.        , 4.        ],\n",
       "       [0.625     , 0.        , 0.44444444, 1.        , 0.        ,\n",
       "        0.        , 1.        ],\n",
       "       [0.25      , 0.        , 0.33333333, 0.        , 1.        ,\n",
       "        0.        , 3.        ],\n",
       "       [0.375     , 1.5       , 0.55555556, 2.5       , 0.        ,\n",
       "        1.        , 4.        ]])"
      ]
     },
     "execution_count": 15,
     "metadata": {},
     "output_type": "execute_result"
    }
   ],
   "source": [
    "AB   # AB = LY "
   ]
  },
  {
   "cell_type": "code",
   "execution_count": 16,
   "metadata": {},
   "outputs": [
    {
     "data": {
      "text/plain": [
       "array([[ 2.   ],\n",
       "       [ 2.   ],\n",
       "       [ 2.25 ],\n",
       "       [-1.25 ],\n",
       "       [ 1.75 ],\n",
       "       [ 2.125]])"
      ]
     },
     "execution_count": 16,
     "metadata": {},
     "output_type": "execute_result"
    }
   ],
   "source": [
    "# Vamos a resolver LY\n",
    "# sustitución hacia adelante\n",
    "Y = np.zeros(n,dtype=float)\n",
    "Y[0] = AB[0,n]\n",
    "for i in range(1,n,1):\n",
    "    suma = 0\n",
    "    for j in range(0,i,1):\n",
    "        suma = suma + AB[i,j]*Y[j]\n",
    "    b = AB[i,n]\n",
    "    Y[i] = (b-suma)/AB[i,i]\n",
    "\n",
    "Y = np.transpose([Y])\n",
    "Y"
   ]
  },
  {
   "cell_type": "code",
   "execution_count": 17,
   "metadata": {},
   "outputs": [
    {
     "data": {
      "text/plain": [
       "array([[ 8.   ,  5.   ,  7.   ,  6.   ,  3.   ,  3.   ,  2.   ],\n",
       "       [ 0.   ,  4.   , -2.   , -3.   ,  0.   ,  4.   ,  2.   ],\n",
       "       [ 0.   ,  0.   ,  9.   ,  2.   ,  3.   ,  0.   ,  2.25 ],\n",
       "       [ 0.   ,  0.   ,  0.   ,  2.   ,  0.   ,  3.   , -1.25 ],\n",
       "       [ 0.   ,  0.   ,  0.   ,  0.   ,  7.   ,  1.   ,  1.75 ],\n",
       "       [ 0.   ,  0.   ,  0.   ,  0.   ,  0.   , -7.   ,  2.125]])"
      ]
     },
     "execution_count": 17,
     "metadata": {},
     "output_type": "execute_result"
    }
   ],
   "source": [
    "# Resolver UX = Y   donde Y=B1\n",
    "AB =np.concatenate((U,Y),axis=1)\n",
    "AB"
   ]
  },
  {
   "cell_type": "code",
   "execution_count": 18,
   "metadata": {},
   "outputs": [
    {
     "data": {
      "text/plain": [
       "array([[-0.26717067],\n",
       "       [ 0.77129393],\n",
       "       [ 0.1899093 ],\n",
       "       [-0.16964286],\n",
       "       [ 0.29336735],\n",
       "       [-0.30357143]])"
      ]
     },
     "execution_count": 18,
     "metadata": {},
     "output_type": "execute_result"
    }
   ],
   "source": [
    "# sustitución hacia atrás\n",
    "ultfila = n-1\n",
    "ultcolumna = m-1\n",
    "X = np.zeros(n,dtype=float)\n",
    "\n",
    "for i in range(ultfila,0-1,-1):\n",
    "    suma = 0\n",
    "    for j in range(i+1,ultcolumna,1):\n",
    "        suma = suma + AB[i,j]*X[j]\n",
    "    b = AB[i,ultcolumna]\n",
    "    X[i] = (b-suma)/AB[i,i]\n",
    "\n",
    "X = np.transpose([X])\n",
    "X"
   ]
  },
  {
   "cell_type": "code",
   "execution_count": 19,
   "metadata": {},
   "outputs": [
    {
     "name": "stdout",
     "output_type": "stream",
     "text": [
      "Pivoteo parcial por filas: AB\n",
      "[[8 5 7 6 3 3 2]\n",
      " [8 9 5 3 3 7 4]\n",
      " [1 4 9 1 4 4 4]\n",
      " [5 3 9 7 3 5 1]\n",
      " [2 1 5 1 9 2 3]\n",
      " [3 8 5 6 4 8 4]]\n",
      "eliminación hacia adelante\n",
      "Matriz U: \n",
      "[[ 8  5  7  6  3  3]\n",
      " [ 0  4 -2 -3  0  4]\n",
      " [ 0  0  9  2  3  0]\n",
      " [ 0  0  0  2  0  3]\n",
      " [ 0  0  0  0  7  1]\n",
      " [ 0  0  0  0  0 -7]]\n",
      "matriz L: \n",
      "[[1.         0.         0.         0.         0.         0.        ]\n",
      " [1.         1.         0.         0.         0.         0.        ]\n",
      " [0.125      0.75       1.         0.         0.         0.        ]\n",
      " [0.625      0.         0.44444444 1.         0.         0.        ]\n",
      " [0.25       0.         0.33333333 0.         1.         0.        ]\n",
      " [0.375      1.5        0.55555556 2.5        0.         1.        ]]\n",
      "B1 :\n",
      "[2 4 4 1 3 4]\n",
      "Y Sustitución hacia adelante - Solución\n",
      "[[ 2.   ]\n",
      " [ 2.   ]\n",
      " [ 2.25 ]\n",
      " [-1.25 ]\n",
      " [ 1.75 ]\n",
      " [ 2.125]]\n",
      "X Sustitución hacia atras - Solución\n",
      "[[-0.26717067]\n",
      " [ 0.77129393]\n",
      " [ 0.1899093 ]\n",
      " [-0.16964286]\n",
      " [ 0.29336735]\n",
      " [-0.30357143]]\n"
     ]
    }
   ],
   "source": [
    "# SALIDA\n",
    "print('Pivoteo parcial por filas: AB')\n",
    "print(AB1)\n",
    "print('eliminación hacia adelante')\n",
    "print('Matriz U: ')\n",
    "print(U)\n",
    "print('matriz L: ')\n",
    "print(L)\n",
    "print('B1 :')\n",
    "print(B1)\n",
    "print(\"Y Sustitución hacia adelante - Solución\")\n",
    "print(Y)\n",
    "print('X Sustitución hacia atras - Solución')\n",
    "print(X)"
   ]
  },
  {
   "cell_type": "markdown",
   "metadata": {},
   "source": [
    "Ahora vamos a solucionar la Matriz L (triangular inferior), donde, en caso de infinitas soluciones, retorna una solución partular y una base para el espacio nulo de L."
   ]
  },
  {
   "cell_type": "code",
   "execution_count": 20,
   "metadata": {},
   "outputs": [],
   "source": [
    "#se utiliza para encontrar una solución única para una matriz triangular inferior L y un vector B1 dados\n",
    "def unica_solucion(L, B1):\n",
    "    n = len(L)\n",
    "    x = np.zeros(n)\n",
    "\n",
    "    for i in range(n):\n",
    "        x[i] = B1[i]\n",
    "        for j in range(i):\n",
    "            x[i] -= L[i][j] * x[j]\n",
    "        x[i] /= L[i][i]\n",
    "\n",
    "    return x\n",
    "\n",
    "#se utiliza para encontrar un número infinito de soluciones para una matriz triangular inferior L y un vector B1 dados.\n",
    "def infinitas_soluciones(L, B1):\n",
    "    n = len(L)\n",
    "    x = np.zeros(n)\n",
    "\n",
    "    free_vectors_bases = {}\n",
    "    has_free_vectors = False\n",
    "    for i in range(n):\n",
    "        if L[i][i] == 0:\n",
    "            net = B1[i]\n",
    "            for j in range(i):\n",
    "                net -= L[i][j] * x[j]\n",
    "            if net != 0:\n",
    "                raise Exception(\"No existe solución\")\n",
    "            free_vector_base = np.zeros(n)\n",
    "            free_vector_base[i] = 1\n",
    "            free_vectors_bases[i] = free_vector_base\n",
    "            has_free_vectors = True\n",
    "        else:\n",
    "            if has_free_vectors:\n",
    "                x[i] += B1[i] / L[i][i]\n",
    "                for j in range(i):\n",
    "                    if j in free_vectors_bases:\n",
    "                        free_vectors_bases[j][i] -= (L[i][j]) / L[i][i]\n",
    "                    else:\n",
    "                        x[i] -= (L[i][j] * x[j]) / L[i][i]\n",
    "            else:\n",
    "                x[i] = B1[i]\n",
    "                for j in range(i):\n",
    "                    x[i] -= L[i][j] * x[j]\n",
    "                x[i] /= L[i][i]\n",
    "\n",
    "    return x, list(free_vectors_bases.values())\n",
    "\n",
    "# Se hace el metodo de sustitución hacia adelante\n",
    "def sustitucion_adelante(L, B1):\n",
    "    diag = np.diag(L)\n",
    "    has_infinite_solutions = np.any(diag == 0)\n",
    "    if has_infinite_solutions:\n",
    "        x, free_vectors_bases = infinitas_soluciones(L, B1)\n",
    "        print(\"Si existen soluciones infinitas\")\n",
    "        print(\"La solución particular es:\", x)\n",
    "        print(\"La base para el espacio nulo:\", free_vectors_bases)\n",
    "        return x, free_vectors_bases\n",
    "    else:\n",
    "        result = unica_solucion(L, B1)\n",
    "        print(\"Existe solución única:\\n\", result)\n",
    "        return result"
   ]
  },
  {
   "cell_type": "code",
   "execution_count": 21,
   "metadata": {},
   "outputs": [
    {
     "name": "stdout",
     "output_type": "stream",
     "text": [
      "Existe solución única:\n",
      " [ 2.     2.     2.25  -1.25   1.75   2.125]\n"
     ]
    }
   ],
   "source": [
    "result = sustitucion_adelante(L, B1)"
   ]
  }
 ],
 "metadata": {
  "kernelspec": {
   "display_name": "Algebra_Taller2_Sebastian_David-mHsW0iIa",
   "language": "python",
   "name": "python3"
  },
  "language_info": {
   "codemirror_mode": {
    "name": "ipython",
    "version": 3
   },
   "file_extension": ".py",
   "mimetype": "text/x-python",
   "name": "python",
   "nbconvert_exporter": "python",
   "pygments_lexer": "ipython3",
   "version": "3.11.5"
  },
  "orig_nbformat": 4
 },
 "nbformat": 4,
 "nbformat_minor": 2
}
