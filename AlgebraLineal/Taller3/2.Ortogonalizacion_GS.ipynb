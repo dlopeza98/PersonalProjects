{
 "cells": [
  {
   "cell_type": "markdown",
   "metadata": {},
   "source": [
    "# 2. Ortogonalización Grahm-Schmidt"
   ]
  },
  {
   "cell_type": "markdown",
   "metadata": {},
   "source": [
    "## 2.1. Función manual para QR vs función `scipy.linalg.qr`"
   ]
  },
  {
   "cell_type": "markdown",
   "metadata": {},
   "source": [
    "### Importando librerías"
   ]
  },
  {
   "cell_type": "code",
   "execution_count": 1,
   "metadata": {},
   "outputs": [],
   "source": [
    "#Importanod librerias\n",
    "import pandas as pd\n",
    "import numpy as np\n",
    "from numpy import matrix, linalg\n",
    "import scipy"
   ]
  },
  {
   "cell_type": "markdown",
   "metadata": {},
   "source": [
    "### Definiendo Matriz Manual"
   ]
  },
  {
   "cell_type": "code",
   "execution_count": 2,
   "metadata": {},
   "outputs": [
    {
     "data": {
      "text/plain": [
       "array([[ 3,  2, -1],\n",
       "       [ 3, -2,  0],\n",
       "       [ 3,  2,  1],\n",
       "       [ 3, -2,  0],\n",
       "       [ 3,  2, -1]])"
      ]
     },
     "execution_count": 2,
     "metadata": {},
     "output_type": "execute_result"
    }
   ],
   "source": [
    "#Definiendo la matriz con los coeficientes de las ecuaciones\n",
    "A=np.array([[3,2,-1],[3,-2,0],[3,2,1],[3,-2,0],[3,2,-1]])\n",
    "A"
   ]
  },
  {
   "cell_type": "markdown",
   "metadata": {},
   "source": [
    "### Definiendo algoritmo para hallar QR"
   ]
  },
  {
   "cell_type": "code",
   "execution_count": 3,
   "metadata": {},
   "outputs": [],
   "source": [
    "def gram_schmidt(A):\n",
    "    # Get the number of columns in A\n",
    "    \n",
    "    A = A.astype(float)\n",
    "    num_columns = A.shape[1]\n",
    "    \n",
    "    # Initialize matrices Q and R with zeros\n",
    "    Q = np.zeros_like(A, dtype=float)\n",
    "    R = np.zeros((num_columns, num_columns), dtype=float)\n",
    "    \n",
    "    for j in range(num_columns):\n",
    "        v = A[:, j]  # Get the j-th column of A\n",
    "        \n",
    "        for i in range(j):\n",
    "            # Compute the projection of v onto Q[:, i] and subtract it from v\n",
    "            R[i, j] = np.dot(Q[:, i], A[:, j])\n",
    "            v -= R[i, j] * Q[:, i]\n",
    "        \n",
    "        # Normalize v to get the i-th column of Q\n",
    "        R[j, j] = np.linalg.norm(v)\n",
    "        Q[:, j] = v / R[j, j]\n",
    "    \n",
    "    return Q, R"
   ]
  },
  {
   "cell_type": "markdown",
   "metadata": {},
   "source": [
    "#### Ejecutando función"
   ]
  },
  {
   "cell_type": "code",
   "execution_count": 4,
   "metadata": {},
   "outputs": [
    {
     "name": "stdout",
     "output_type": "stream",
     "text": [
      "Q (orthogonalized matrix):\n",
      " [[ 0.4472136   0.36514837 -0.40824829]\n",
      " [ 0.4472136  -0.54772256  0.        ]\n",
      " [ 0.4472136   0.36514837  0.81649658]\n",
      " [ 0.4472136  -0.54772256  0.        ]\n",
      " [ 0.4472136   0.36514837 -0.40824829]]\n",
      "\n",
      "R (upper triangular matrix):\n",
      " [[ 6.70820393  0.89442719 -0.4472136 ]\n",
      " [ 0.          4.38178046 -0.36514837]\n",
      " [ 0.          0.          1.63299316]]\n"
     ]
    }
   ],
   "source": [
    "Q, R = gram_schmidt(A)\n",
    "print(\"Q (orthogonalized matrix):\\n\", Q)\n",
    "print(\"\\nR (upper triangular matrix):\\n\", R)"
   ]
  },
  {
   "cell_type": "markdown",
   "metadata": {},
   "source": [
    "#### Verificando que QT*Q = I"
   ]
  },
  {
   "cell_type": "code",
   "execution_count": 5,
   "metadata": {},
   "outputs": [
    {
     "data": {
      "text/plain": [
       "array([[ 1.,  0., -0.],\n",
       "       [ 0.,  1., -0.],\n",
       "       [-0., -0.,  1.]])"
      ]
     },
     "execution_count": 5,
     "metadata": {},
     "output_type": "execute_result"
    }
   ],
   "source": [
    "(Q.T@Q).round()"
   ]
  },
  {
   "cell_type": "markdown",
   "metadata": {},
   "source": [
    "#### Hallando A multiplicando Q y R"
   ]
  },
  {
   "cell_type": "code",
   "execution_count": 6,
   "metadata": {},
   "outputs": [
    {
     "data": {
      "text/plain": [
       "array([[ 3.,  2., -1.],\n",
       "       [ 3., -2., -0.],\n",
       "       [ 3.,  2.,  1.],\n",
       "       [ 3., -2., -0.],\n",
       "       [ 3.,  2., -1.]])"
      ]
     },
     "execution_count": 6,
     "metadata": {},
     "output_type": "execute_result"
    }
   ],
   "source": [
    "A_cal=Q@R\n",
    "A_cal.round()"
   ]
  },
  {
   "cell_type": "markdown",
   "metadata": {},
   "source": [
    "### Comparando los resultados con la función `scipy.linalg.qr`"
   ]
  },
  {
   "cell_type": "markdown",
   "metadata": {},
   "source": [
    "#### Hallando Q y R"
   ]
  },
  {
   "cell_type": "code",
   "execution_count": 7,
   "metadata": {},
   "outputs": [
    {
     "name": "stdout",
     "output_type": "stream",
     "text": [
      "Q (orthogonalized matrix):\n",
      " [[-4.47213595e-01  3.65148372e-01  4.08248290e-01 -8.61535451e-02\n",
      "  -7.01838704e-01]\n",
      " [-4.47213595e-01 -5.47722558e-01 -5.55111512e-17 -7.01838704e-01\n",
      "   8.61535451e-02]\n",
      " [-4.47213595e-01  3.65148372e-01 -8.16496581e-01 -3.46944695e-18\n",
      "   2.77555756e-17]\n",
      " [-4.47213595e-01 -5.47722558e-01 -2.77555756e-17  7.01838704e-01\n",
      "  -8.61535451e-02]\n",
      " [-4.47213595e-01  3.65148372e-01  4.08248290e-01  8.61535451e-02\n",
      "   7.01838704e-01]]\n",
      "\n",
      "R (upper triangular matrix):\n",
      " [[-6.70820393 -0.89442719  0.4472136 ]\n",
      " [ 0.          4.38178046 -0.36514837]\n",
      " [ 0.          0.         -1.63299316]\n",
      " [ 0.          0.          0.        ]\n",
      " [ 0.          0.          0.        ]]\n"
     ]
    }
   ],
   "source": [
    "Q_s,R_s=scipy.linalg.qr(A)\n",
    "print(\"Q (orthogonalized matrix):\\n\", Q_s)\n",
    "print(\"\\nR (upper triangular matrix):\\n\", R_s)"
   ]
  },
  {
   "cell_type": "markdown",
   "metadata": {},
   "source": [
    "#### Verificando que Q es ortogonal"
   ]
  },
  {
   "cell_type": "code",
   "execution_count": 8,
   "metadata": {},
   "outputs": [
    {
     "data": {
      "text/plain": [
       "array([[ 1.,  0.,  0.,  0., -0.],\n",
       "       [ 0.,  1.,  0., -0.,  0.],\n",
       "       [ 0.,  0.,  1.,  0.,  0.],\n",
       "       [ 0., -0.,  0.,  1.,  0.],\n",
       "       [-0.,  0.,  0.,  0.,  1.]])"
      ]
     },
     "execution_count": 8,
     "metadata": {},
     "output_type": "execute_result"
    }
   ],
   "source": [
    "(Q_s.T@Q_s).round()"
   ]
  },
  {
   "cell_type": "markdown",
   "metadata": {},
   "source": [
    "#### Calculando A con Q y R"
   ]
  },
  {
   "cell_type": "code",
   "execution_count": 9,
   "metadata": {},
   "outputs": [
    {
     "data": {
      "text/plain": [
       "array([[ 3.,  2., -1.],\n",
       "       [ 3., -2.,  0.],\n",
       "       [ 3.,  2.,  1.],\n",
       "       [ 3., -2.,  0.],\n",
       "       [ 3.,  2., -1.]])"
      ]
     },
     "execution_count": 9,
     "metadata": {},
     "output_type": "execute_result"
    }
   ],
   "source": [
    "A_cal_s=Q_s@R_s\n",
    "A_cal_s.round()"
   ]
  },
  {
   "cell_type": "markdown",
   "metadata": {},
   "source": [
    "### Observación QR manual vs QR de Scipy:\n",
    "\n",
    "#### Se puede notar que para algunas observaciones de las matrices Q y R, los signos cambian dependiendo de la metodología utilizada. También es evidente que usando la función `scipy.linalg.qr` arroja una matriz **Q de tamaño mxm** y **R arroja una matriz de tamaño mxn**, por otra parte, utilizando la `función manual`, se encuentra una matriz **Q de tamaño mxn** y una matriz **R de tamaño nxn**. \n",
    "\n",
    "#### Sin embargo, bajo ambas metodologías, se cumple que Q es ortogonal y el cálculo de A multiplicando Q*R da el mismo resultado."
   ]
  },
  {
   "cell_type": "markdown",
   "metadata": {},
   "source": [
    "## 2.1. ¿Qué pasa con la factorización QR cuando las columnas son linealmente dependientes?"
   ]
  },
  {
   "cell_type": "code",
   "execution_count": 10,
   "metadata": {},
   "outputs": [
    {
     "data": {
      "text/plain": [
       "array([[ 1,  2,  3],\n",
       "       [ 2,  4,  6],\n",
       "       [ 3,  6,  9],\n",
       "       [ 4,  8, 12]])"
      ]
     },
     "execution_count": 10,
     "metadata": {},
     "output_type": "execute_result"
    }
   ],
   "source": [
    "matriz_dependiente = np.array([\n",
    "    [1, 2, 3],\n",
    "    [2, 4, 6],\n",
    "    [3, 6, 9],\n",
    "    [4, 8, 12]\n",
    "])\n",
    "\n",
    "matriz_dependiente"
   ]
  },
  {
   "cell_type": "code",
   "execution_count": 11,
   "metadata": {},
   "outputs": [
    {
     "name": "stdout",
     "output_type": "stream",
     "text": [
      "Q (orthogonalized matrix):\n",
      " [[0.18257419 0.16439899        nan]\n",
      " [0.36514837 0.32879797        nan]\n",
      " [0.54772256 0.65759595        nan]\n",
      " [0.73029674 0.65759595        nan]]\n",
      "\n",
      "R (upper triangular matrix):\n",
      " [[5.47722558e+00 1.09544512e+01 1.64316767e+01]\n",
      " [0.00000000e+00 2.70128921e-15 5.40257841e-15]\n",
      " [0.00000000e+00 0.00000000e+00 0.00000000e+00]]\n"
     ]
    },
    {
     "name": "stderr",
     "output_type": "stream",
     "text": [
      "/tmp/ipykernel_90999/3194432237.py:21: RuntimeWarning: invalid value encountered in divide\n",
      "  Q[:, j] = v / R[j, j]\n"
     ]
    }
   ],
   "source": [
    "Q, R = gram_schmidt(matriz_dependiente)\n",
    "print(\"Q (orthogonalized matrix):\\n\", Q)\n",
    "print(\"\\nR (upper triangular matrix):\\n\", R)"
   ]
  },
  {
   "cell_type": "code",
   "execution_count": 12,
   "metadata": {},
   "outputs": [
    {
     "data": {
      "text/plain": [
       "array([[ 1.,  1., nan],\n",
       "       [ 1.,  1., nan],\n",
       "       [nan, nan, nan]])"
      ]
     },
     "execution_count": 12,
     "metadata": {},
     "output_type": "execute_result"
    }
   ],
   "source": [
    "(Q.T@Q).round()"
   ]
  },
  {
   "cell_type": "code",
   "execution_count": 13,
   "metadata": {},
   "outputs": [
    {
     "data": {
      "text/plain": [
       "array([[nan, nan, nan],\n",
       "       [nan, nan, nan],\n",
       "       [nan, nan, nan],\n",
       "       [nan, nan, nan]])"
      ]
     },
     "execution_count": 13,
     "metadata": {},
     "output_type": "execute_result"
    }
   ],
   "source": [
    "Q@R"
   ]
  },
  {
   "cell_type": "markdown",
   "metadata": {},
   "source": [
    "#### Cuando la matriz es linealmente dependiente sucede lo siguiente:\n",
    "\n",
    "1) La matriz ortogonal (Q) deja de ser ortogonal, dado que QT@Q no da igual a la matriz identidad. Por lo tanto, es una matriz que no minimiza el error.\n",
    "\n",
    "2) La Matriz R tiene almenos una fila con ceros, esto se debe a que las columnas de A son combinaciones de otras columnas, es decir, tienen la misma dirección pero con diferente longitud.\n",
    "\n",
    "3) Los puntos anteriores causan que Q@R no den como resultado la matriz A original, porque al no ser ortogonal Q, el sistema no tiene única solución."
   ]
  },
  {
   "cell_type": "markdown",
   "metadata": {},
   "source": [
    "## 2.3. Condiciónes para que la factorización QR sea única.\n",
    "\n",
    "1) Este proceso obtiene matrices Q y R únicas cuando la matriz es cuadrada y no es linealmente dependiente.  Si la matriz no es cuadrada, se pueden hallar multiples Q y R que multiplicadas den como resultado la Matriz A.\n",
    "\n",
    "2) La factorización QR también es única cuando la matriz es de rango completo, es decir, el número de columnas linealmente independientes igual al número de filas. Esto es otra forma de ver el punto anterior."
   ]
  }
 ],
 "metadata": {
  "kernelspec": {
   "display_name": "Algebra_Taller3_Sebastian_David-RzRulIzR",
   "language": "python",
   "name": "python3"
  },
  "language_info": {
   "codemirror_mode": {
    "name": "ipython",
    "version": 3
   },
   "file_extension": ".py",
   "mimetype": "text/x-python",
   "name": "python",
   "nbconvert_exporter": "python",
   "pygments_lexer": "ipython3",
   "version": "3.11.5"
  },
  "orig_nbformat": 4
 },
 "nbformat": 4,
 "nbformat_minor": 2
}
