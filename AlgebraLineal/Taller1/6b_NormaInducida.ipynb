{
 "cells": [
  {
   "cell_type": "markdown",
   "metadata": {},
   "source": [
    "# 6. Norma inducida"
   ]
  },
  {
   "cell_type": "markdown",
   "metadata": {},
   "source": [
    "##### Importando librerías"
   ]
  },
  {
   "cell_type": "code",
   "execution_count": 1,
   "metadata": {},
   "outputs": [],
   "source": [
    "import numpy as np\n",
    "import random"
   ]
  },
  {
   "cell_type": "markdown",
   "metadata": {},
   "source": [
    "##### Se crea un algoritmo donde lo primero que hace es crear una matriz NxM, luego se crean varios vectores canonicos de tamaño N y de cantidad M. Se multiplican esos vectores Canonicos con la matriz creada y el resultados son otros vectores. A estos vectores se le saca la norma P y luego se escoge el maximo valor de estas normas generadas. El resultado seria la Norma Inducida de la matriz generada."
   ]
  },
  {
   "cell_type": "code",
   "execution_count": 2,
   "metadata": {},
   "outputs": [],
   "source": [
    "def random_matrix(n, m):\n",
    "    # Generate a random matrix of size n by m with integer numbers\n",
    "    matrix = np.random.randint(low=0, high=10, size=(n, m))\n",
    "    return matrix\n",
    "\n",
    "def random_canonical_vectors(n, m):\n",
    "    # Generate m random canonical vectors of size n\n",
    "    vectors = []\n",
    "    for i in range(m):\n",
    "        e = np.zeros(n)\n",
    "        e[i % n] = 1\n",
    "        vectors.append(e)\n",
    "    return vectors\n",
    "\n",
    "def minkowski_norm(x, p):\n",
    "    # Calculate the Minkowski norm of a vector x with order p\n",
    "    if p == 1:\n",
    "        norm = np.sum(np.abs(x))\n",
    "    elif p == 2:\n",
    "        norm = np.sqrt(np.sum(np.square(x)))\n",
    "    elif p == float('inf'):\n",
    "        norm = np.max(np.abs(x))\n",
    "    return norm\n",
    "\n",
    "def max_minkowski_norm(n, m, p):\n",
    "    # Generate a random matrix of size n by m with integer numbers\n",
    "    x = random_matrix(n, m)\n",
    "    # Generate m random canonical vectors of size n\n",
    "    vectors_canonicos = random_canonical_vectors(n, m)\n",
    "    # Calculate the product of the matrix and the canonical vectors\n",
    "    resultado = [np.transpose(x) @ vectors_canonicos[i] for i in range(len(vectors_canonicos))]\n",
    "    # Calculate the Minkowski norm of each product vector\n",
    "    normas = [minkowski_norm(v, p) for v in resultado]\n",
    "    # Find the maximum norm\n",
    "    maximo = max(normas)\n",
    "    return maximo\n",
    "\n"
   ]
  },
  {
   "cell_type": "markdown",
   "metadata": {},
   "source": [
    "##### Aquí se debe de ingresar el valor de n = #, luego el valor de m = # y por ultimo de la norma que se quiere hallar P = \"1\", \"2\" y \"inf\". "
   ]
  },
  {
   "cell_type": "code",
   "execution_count": 3,
   "metadata": {},
   "outputs": [
    {
     "name": "stdout",
     "output_type": "stream",
     "text": [
      "15.748015748023622\n"
     ]
    }
   ],
   "source": [
    "n =5\n",
    "m =10\n",
    "p = 2 \n",
    "\n",
    "max_norm = max_minkowski_norm(n, m, p)\n",
    "print(max_norm)"
   ]
  },
  {
   "cell_type": "markdown",
   "metadata": {},
   "source": [
    "### Si se quiere ver el paso a paso detallado de como funciona el algoritmo, en las proximas lineas se muestra explicitamente como funciona."
   ]
  },
  {
   "cell_type": "markdown",
   "metadata": {},
   "source": [
    "##### Función para crear una matriz aleatoria"
   ]
  },
  {
   "cell_type": "code",
   "execution_count": 4,
   "metadata": {},
   "outputs": [],
   "source": [
    "def random_matrix(n, m):\n",
    "    # Generate a random matrix of size n by m with integer numbers\n",
    "    matrix = np.random.randint(low=0, high=10, size=(n, m))\n",
    "    return matrix"
   ]
  },
  {
   "cell_type": "markdown",
   "metadata": {},
   "source": [
    "##### Se generan los números aleatorios para alimentar la función de la matriz"
   ]
  },
  {
   "cell_type": "code",
   "execution_count": 5,
   "metadata": {},
   "outputs": [
    {
     "name": "stdout",
     "output_type": "stream",
     "text": [
      "[[1 7 4 6 0 6]\n",
      " [5 9 3 3 4 4]\n",
      " [5 9 9 2 0 4]\n",
      " [2 9 0 6 0 7]\n",
      " [8 9 4 3 0 5]\n",
      " [9 7 1 8 8 8]\n",
      " [1 7 4 9 5 4]\n",
      " [0 6 1 1 0 2]]\n"
     ]
    },
    {
     "data": {
      "text/plain": [
       "(8, 6)"
      ]
     },
     "execution_count": 5,
     "metadata": {},
     "output_type": "execute_result"
    }
   ],
   "source": [
    "n =  random.randint(2, 11)\n",
    "m = random.randint(2, 11)\n",
    "\n",
    "x = random_matrix(n,m)\n",
    "print(x)\n",
    "x.shape"
   ]
  },
  {
   "cell_type": "markdown",
   "metadata": {},
   "source": [
    "##### Se crean los vectores Canonicos con tamño \"n\" y el número de vectores es \"m\" "
   ]
  },
  {
   "cell_type": "code",
   "execution_count": 6,
   "metadata": {},
   "outputs": [
    {
     "name": "stdout",
     "output_type": "stream",
     "text": [
      "[1. 0. 0. 0. 0. 0. 0. 0.]\n",
      "[0. 1. 0. 0. 0. 0. 0. 0.]\n",
      "[0. 0. 1. 0. 0. 0. 0. 0.]\n",
      "[0. 0. 0. 1. 0. 0. 0. 0.]\n",
      "[0. 0. 0. 0. 1. 0. 0. 0.]\n",
      "[0. 0. 0. 0. 0. 1. 0. 0.]\n"
     ]
    }
   ],
   "source": [
    "x = random_matrix(n, m)\n",
    "\n",
    "vectores_canonicos = [] # Lista de vectores canónicos aleatorios\n",
    "\n",
    "for i in range(m): # Generar m vectores canónicos\n",
    "    e = np.zeros(n) # Vector canónico de longitud n\n",
    "    e[i % n] = 1 # Establecer el valor de 1 en la posición correspondiente\n",
    "    vectores_canonicos.append(e) # Agregar el vector canónico a la lista\n",
    "\n",
    "for e in vectores_canonicos:\n",
    "    print(e)"
   ]
  },
  {
   "cell_type": "code",
   "execution_count": 7,
   "metadata": {},
   "outputs": [
    {
     "data": {
      "text/plain": [
       "(8,)"
      ]
     },
     "execution_count": 7,
     "metadata": {},
     "output_type": "execute_result"
    }
   ],
   "source": [
    "vectores_canonicos[0].shape"
   ]
  },
  {
   "cell_type": "markdown",
   "metadata": {},
   "source": [
    "##### Se hace la multiplicación de la matriz aleatoria y los vectores canonicos "
   ]
  },
  {
   "cell_type": "code",
   "execution_count": 8,
   "metadata": {},
   "outputs": [
    {
     "name": "stdout",
     "output_type": "stream",
     "text": [
      "[array([3., 9., 6., 2., 9., 5.]), array([8., 7., 8., 0., 4., 9.]), array([8., 1., 6., 2., 9., 7.]), array([2., 2., 0., 1., 2., 1.]), array([6., 1., 8., 8., 9., 6.]), array([0., 1., 2., 8., 3., 6.])]\n"
     ]
    }
   ],
   "source": [
    "resultado = [np.transpose(x) @ vectores_canonicos[i] for i in range(len(vectores_canonicos))]\n",
    "print(resultado)"
   ]
  },
  {
   "cell_type": "markdown",
   "metadata": {},
   "source": [
    "##### Se crea la función para generar normas vectoriales"
   ]
  },
  {
   "cell_type": "code",
   "execution_count": 9,
   "metadata": {},
   "outputs": [],
   "source": [
    "def minkowski_norm(x, p):\n",
    "    # Calculate the Minkowski norm of a vector x with order p\n",
    "    if p == 1:\n",
    "        norm = np.sum(np.abs(x))\n",
    "    elif p == 2:\n",
    "        norm = np.sqrt(np.sum(np.square(x)))\n",
    "    elif p == float('inf'):\n",
    "        norm = np.max(np.abs(x))\n",
    "    return norm"
   ]
  },
  {
   "cell_type": "markdown",
   "metadata": {},
   "source": [
    "##### Aquí se debe de escoger la norma que se desea implementar. (1,2,infinito)"
   ]
  },
  {
   "cell_type": "code",
   "execution_count": 10,
   "metadata": {},
   "outputs": [
    {
     "name": "stdout",
     "output_type": "stream",
     "text": [
      "[34.0, 36.0, 33.0, 8.0, 38.0, 20.0]\n"
     ]
    }
   ],
   "source": [
    "# Normas P \n",
    "p = 1 \n",
    "# p = 2\n",
    "# P = \"inf\"\n",
    "\n",
    "normas =[]\n",
    "for v in resultado:\n",
    "    norma = minkowski_norm(v,p)\n",
    "    normas.append(norma)\n",
    "    \n",
    "print(normas)"
   ]
  },
  {
   "cell_type": "markdown",
   "metadata": {},
   "source": [
    "##### Se saca el maximo de las normas vectoriales "
   ]
  },
  {
   "cell_type": "code",
   "execution_count": 11,
   "metadata": {},
   "outputs": [
    {
     "name": "stdout",
     "output_type": "stream",
     "text": [
      "38.0\n"
     ]
    }
   ],
   "source": [
    "maximo = max(normas)\n",
    "print(maximo)  ## Esta es la norma inducida para la matriz generada"
   ]
  }
 ],
 "metadata": {
  "kernelspec": {
   "display_name": "Algebra_Taller1_Sebastian_David-BLDrIftN",
   "language": "python",
   "name": "python3"
  },
  "language_info": {
   "codemirror_mode": {
    "name": "ipython",
    "version": 3
   },
   "file_extension": ".py",
   "mimetype": "text/x-python",
   "name": "python",
   "nbconvert_exporter": "python",
   "pygments_lexer": "ipython3",
   "version": "3.11.5"
  },
  "orig_nbformat": 4
 },
 "nbformat": 4,
 "nbformat_minor": 2
}
