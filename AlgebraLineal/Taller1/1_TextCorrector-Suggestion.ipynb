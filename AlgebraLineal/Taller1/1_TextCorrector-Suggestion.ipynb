{
 "cells": [
  {
   "cell_type": "markdown",
   "metadata": {},
   "source": [
    "# Text Corrector and Text Suggestion\n",
    "\n",
    "\n",
    "\n",
    "The objectives of this notebook are:\n",
    "1. Build a function that recibe as input any string array and find the most similar word in a vocabulary.\n",
    "2. Build a function that recibe as input any string array and complete the text with the most similar completed word in a vocabulary.\n",
    "3. Build a GUI to interact with `Text Corrector` and `Text Suggestion` functions.\n",
    "\n",
    "In this case the vocabulary are the words in a pdf file called `Data Science from Scratch- First Principles with Python`."
   ]
  },
  {
   "cell_type": "markdown",
   "metadata": {},
   "source": [
    "## 1. Text Corrector\n",
    "\n",
    "We use the Levenshtein distance to find the closest word."
   ]
  },
  {
   "cell_type": "markdown",
   "metadata": {},
   "source": [
    "## Importing Libraries"
   ]
  },
  {
   "cell_type": "code",
   "execution_count": 1,
   "metadata": {},
   "outputs": [],
   "source": [
    "import PyPDF2\n",
    "import nltk\n",
    "from nltk.corpus import stopwords\n",
    "from gensim.models import Word2Vec\n",
    "from sklearn.neighbors import NearestNeighbors\n",
    "from collections import defaultdict,Counter\n",
    "from sklearn.feature_extraction.text import CountVectorizer\n",
    "from nltk.tokenize import word_tokenize\n",
    "import Levenshtein\n",
    "import PySimpleGUI as sg\n"
   ]
  },
  {
   "cell_type": "code",
   "execution_count": 2,
   "metadata": {},
   "outputs": [
    {
     "name": "stderr",
     "output_type": "stream",
     "text": [
      "[nltk_data] Downloading package punkt to /home/dalopeza/nltk_data...\n",
      "[nltk_data]   Package punkt is already up-to-date!\n"
     ]
    }
   ],
   "source": [
    "nltk.download(\"punkt\")\n",
    "path_pdf=\"datasets/textSuggestion/Data Science from Scratch- First Principles with Python.pdf\"\n",
    "stop_words_nltk = set(stopwords.words(\"english\"))"
   ]
  },
  {
   "cell_type": "markdown",
   "metadata": {},
   "source": [
    "### Function to extract text from pdf file"
   ]
  },
  {
   "cell_type": "code",
   "execution_count": 3,
   "metadata": {},
   "outputs": [],
   "source": [
    "def extract_text_from_pdf(pdf_path):\n",
    "    text = \"\"\n",
    "    with open(pdf_path, \"rb\") as pdf_file:\n",
    "        pdf_reader = PyPDF2.PdfReader(pdf_file)\n",
    "        for page_num in range(17,len(pdf_reader.pages)):  #ignoring first 10 pages\n",
    "            text += pdf_reader.pages[page_num].extract_text()\n",
    "\n",
    "\n",
    "    return text"
   ]
  },
  {
   "cell_type": "markdown",
   "metadata": {},
   "source": [
    "### Function to Tokenaze text of a pdf file to create the Vocabulary"
   ]
  },
  {
   "cell_type": "code",
   "execution_count": 4,
   "metadata": {},
   "outputs": [],
   "source": [
    "def create_vocabulary(text):\n",
    "    tokens = word_tokenize(text.lower())\n",
    "    tokens = [w for w in tokens if w.isalpha()]\n",
    "    tokens = [w for w in tokens if w not in stop_words_nltk]\n",
    "    vocabulary = set(tokens)\n",
    "    return vocabulary"
   ]
  },
  {
   "cell_type": "markdown",
   "metadata": {},
   "source": [
    "### Function to find the closest word in the vocabulary based on Levenshtein distance"
   ]
  },
  {
   "cell_type": "code",
   "execution_count": 5,
   "metadata": {},
   "outputs": [],
   "source": [
    "def auto_correct(input_string, vocabulary):\n",
    "    input_words = input_string.split()\n",
    "    corrected_words = []\n",
    "\n",
    "    for word in input_words:\n",
    "        # Find the closest word in the vocabulary based on Levenshtein distance\n",
    "        closest_word = min(vocabulary, key=lambda x: Levenshtein.distance(word, x))\n",
    "        corrected_words.append(closest_word)\n",
    "\n",
    "    corrected_string = ' '.join(corrected_words)\n",
    "    return corrected_string"
   ]
  },
  {
   "cell_type": "markdown",
   "metadata": {},
   "source": [
    "### Execute the function"
   ]
  },
  {
   "cell_type": "code",
   "execution_count": 7,
   "metadata": {},
   "outputs": [
    {
     "name": "stdout",
     "output_type": "stream",
     "text": [
      "Welcome to the words corrector program (type 'esc' or 'exit' to close the program)\n",
      "\n",
      "Enter a word: \n",
      "The closest word/sentence to \"ciense\" is \"sense\"\n",
      "\n",
      "Enter a word: \n",
      "The closest word/sentence to \"sience\" is \"since\"\n",
      "\n",
      "Enter a word: \n",
      "The closest word/sentence to \"ciensce\" is \"science\"\n",
      "\n",
      "Enter a word: \n"
     ]
    }
   ],
   "source": [
    "vocabulary=create_vocabulary(\n",
    "                 extract_text_from_pdf(path_pdf)\n",
    "             )\n",
    "\n",
    "print(\"Welcome to the words corrector program (type 'esc' or 'exit' to close the program)\")\n",
    "\n",
    "while True:\n",
    "    print(\"\\nEnter a word: \")\n",
    "    input_string=input(\"Enter a word: \")\n",
    "    if input_string==\"exit\" or input_string==\"esc\":\n",
    "        break\n",
    "    else:\n",
    "        closest_word=auto_correct(input_string,vocabulary)\n",
    "        print(f'The closest word/sentence to \"{input_string}\" is \"{closest_word}\"')"
   ]
  },
  {
   "cell_type": "markdown",
   "metadata": {},
   "source": [
    "## 2.Text Suggestion \n",
    "\n",
    "Based on a few characters find the closest completed word."
   ]
  },
  {
   "cell_type": "code",
   "execution_count": 6,
   "metadata": {},
   "outputs": [],
   "source": [
    "# Step 3: Build a Trie data structure for vocabulary\n",
    "class TrieNode:\n",
    "    def __init__(self):\n",
    "        self.children = defaultdict(TrieNode)\n",
    "        self.is_end_of_word = False\n",
    "\n",
    "def build_trie(vocabulary):\n",
    "    root = TrieNode()\n",
    "    for word in vocabulary:\n",
    "        node = root\n",
    "        for char in word:\n",
    "            node = node.children[char]\n",
    "        node.is_end_of_word = True\n",
    "    return root"
   ]
  },
  {
   "cell_type": "code",
   "execution_count": 7,
   "metadata": {},
   "outputs": [],
   "source": [
    "# Step 5: Define a function to suggest words based on partial input using Trie\n",
    "def suggest_word(input_prefix, root):\n",
    "    input_prefix = input_prefix.lower()\n",
    "    \n",
    "    # Check if the input prefix is in the vocabulary\n",
    "    if input_prefix in vocabulary:\n",
    "        return input_prefix\n",
    "\n",
    "    node = root\n",
    "    for char in input_prefix:\n",
    "        if char in node.children:\n",
    "            node = node.children[char]\n",
    "        else:\n",
    "            break\n",
    "    \n",
    "    suggestions = []\n",
    "\n",
    "    def dfs(node, prefix):\n",
    "        if node.is_end_of_word:\n",
    "            suggestions.append(prefix)\n",
    "        for char, child_node in node.children.items():\n",
    "            dfs(child_node, prefix + char)\n",
    "\n",
    "    dfs(node, input_prefix)\n",
    "\n",
    "    if not suggestions:\n",
    "        return \"No matching words found\"\n",
    "    \n",
    "    # Count word frequencies and find the suggestion with the highest frequency\n",
    "    word_frequencies = Counter(vocabulary)\n",
    "    suggestion = max(suggestions, key=lambda x: word_frequencies[x])\n",
    "    return suggestion\n",
    "\n"
   ]
  },
  {
   "cell_type": "code",
   "execution_count": 8,
   "metadata": {},
   "outputs": [
    {
     "ename": "NameError",
     "evalue": "name 'vocabulary' is not defined",
     "output_type": "error",
     "traceback": [
      "\u001b[0;31m---------------------------------------------------------------------------\u001b[0m",
      "\u001b[0;31mNameError\u001b[0m                                 Traceback (most recent call last)",
      "\u001b[1;32m/home/dalopeza/PersonalProjects/AlgebraLineal/Taller1/1_TextCorrector-Suggestion.ipynb Cell 17\u001b[0m line \u001b[0;36m2\n\u001b[1;32m      <a href='vscode-notebook-cell://wsl%2Bubuntu/home/dalopeza/PersonalProjects/AlgebraLineal/Taller1/1_TextCorrector-Suggestion.ipynb#X22sdnNjb2RlLXJlbW90ZQ%3D%3D?line=0'>1</a>\u001b[0m \u001b[39m# Build the Trie for the vocabulary\u001b[39;00m\n\u001b[0;32m----> <a href='vscode-notebook-cell://wsl%2Bubuntu/home/dalopeza/PersonalProjects/AlgebraLineal/Taller1/1_TextCorrector-Suggestion.ipynb#X22sdnNjb2RlLXJlbW90ZQ%3D%3D?line=1'>2</a>\u001b[0m trie_root \u001b[39m=\u001b[39m build_trie(vocabulary)\n\u001b[1;32m      <a href='vscode-notebook-cell://wsl%2Bubuntu/home/dalopeza/PersonalProjects/AlgebraLineal/Taller1/1_TextCorrector-Suggestion.ipynb#X22sdnNjb2RlLXJlbW90ZQ%3D%3D?line=3'>4</a>\u001b[0m \u001b[39mprint\u001b[39m(\u001b[39m\"\u001b[39m\u001b[39mWelcome to the text suggestion program (type \u001b[39m\u001b[39m'\u001b[39m\u001b[39mesc\u001b[39m\u001b[39m'\u001b[39m\u001b[39m or \u001b[39m\u001b[39m'\u001b[39m\u001b[39mexit\u001b[39m\u001b[39m'\u001b[39m\u001b[39m to close the program)\u001b[39m\u001b[39m\"\u001b[39m)\n\u001b[1;32m      <a href='vscode-notebook-cell://wsl%2Bubuntu/home/dalopeza/PersonalProjects/AlgebraLineal/Taller1/1_TextCorrector-Suggestion.ipynb#X22sdnNjb2RlLXJlbW90ZQ%3D%3D?line=5'>6</a>\u001b[0m \u001b[39mwhile\u001b[39;00m \u001b[39mTrue\u001b[39;00m:\n",
      "\u001b[0;31mNameError\u001b[0m: name 'vocabulary' is not defined"
     ]
    }
   ],
   "source": [
    "# Build the Trie for the vocabulary\n",
    "trie_root = build_trie(vocabulary)\n",
    "\n",
    "print(\"Welcome to the text suggestion program (type 'esc' or 'exit' to close the program)\")\n",
    "\n",
    "while True:\n",
    "    print(\"\\nEnter some characters: \")\n",
    "    input_prefix=input(\"Enter some characters: \")\n",
    "    if input_prefix==\"exit\" or input_prefix==\"esc\":\n",
    "        break\n",
    "    else:\n",
    "        suggestion = suggest_word(input_prefix, trie_root)\n",
    "        print(f\"The suggestion for '{input_prefix}' is '{suggestion}'\")\n",
    "                   "
   ]
  },
  {
   "cell_type": "markdown",
   "metadata": {},
   "source": [
    "## 3. GUI to interact"
   ]
  },
  {
   "cell_type": "code",
   "execution_count": 9,
   "metadata": {},
   "outputs": [],
   "source": [
    "# Define the layout for the GUI\n",
    "layout = [\n",
    "    [sg.Text(\"Enter a string: \"), sg.InputText(key='-INPUT-')],\n",
    "    [sg.Text(\"Closest Word: \"), sg.Text(\"\", size=(20, 1), key='-CLOSEST-')],\n",
    "    [sg.Text(\"Autocomplete: \"), sg.Text(\"\", size=(20, 1), key='-AUTOCOMPLETE-')],\n",
    "    #[sg.Button(\"Find Closest Word\"), sg.Button(\"Autocomplete\")]\n",
    "]\n",
    "\n",
    "# Create the window\n",
    "window = sg.Window(\"String Processing\", layout)\n",
    "\n",
    "# Initialize variables to store the previous input\n",
    "prev_input = \"\"\n",
    "prev_closest = \"\"\n",
    "prev_completed = \"\"\n",
    "\n",
    "vocabulary=create_vocabulary(\n",
    "                 extract_text_from_pdf(path_pdf)\n",
    "             )\n",
    "\n",
    "trie_root = build_trie(vocabulary)\n",
    "\n",
    "# Event loop\n",
    "while True:\n",
    "    event, values = window.read(timeout=1000)\n",
    "\n",
    "    if event == sg.WIN_CLOSED:\n",
    "        break\n",
    "\n",
    "    input_str = values['-INPUT-']\n",
    "    closest = auto_correct(input_str, vocabulary)  # Call your closest word function\n",
    "    completed = suggest_word(input_str, trie_root)  # Call your autocomplete function\n",
    "\n",
    "\n",
    "    # Check if the input has changed\n",
    "    if input_str != prev_input or closest != prev_closest or completed != prev_completed:\n",
    "        window['-CLOSEST-'].update(closest)\n",
    "        window['-AUTOCOMPLETE-'].update(completed)\n",
    "\n",
    "        # Update the previous input and results\n",
    "        prev_input = input_str\n",
    "        prev_closest = closest\n",
    "        prev_completed = completed\n",
    "\n",
    "window.close()"
   ]
  }
 ],
 "metadata": {
  "kernelspec": {
   "display_name": "Algebra_Taller1_Sebastian_David-Vxe6WzMv",
   "language": "python",
   "name": "python3"
  },
  "language_info": {
   "codemirror_mode": {
    "name": "ipython",
    "version": 3
   },
   "file_extension": ".py",
   "mimetype": "text/x-python",
   "name": "python",
   "nbconvert_exporter": "python",
   "pygments_lexer": "ipython3",
   "version": "3.11.5"
  },
  "orig_nbformat": 4
 },
 "nbformat": 4,
 "nbformat_minor": 2
}
